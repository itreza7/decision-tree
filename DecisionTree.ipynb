{
  "cells": [
    {
      "cell_type": "markdown",
      "metadata": {
        "id": "7seU3Ozu2BTi"
      },
      "source": [
        "# Libraries"
      ]
    },
    {
      "cell_type": "code",
      "execution_count": 1,
      "metadata": {
        "id": "17Ix5rVJ2Dcd"
      },
      "outputs": [],
      "source": [
        "import pandas as pd\n",
        "import numpy as np\n",
        "import matplotlib.pyplot as plt\n",
        "import math, json"
      ]
    },
    {
      "cell_type": "code",
      "execution_count": 2,
      "metadata": {
        "id": "dkls6rLHXAtI"
      },
      "outputs": [],
      "source": [
        "%matplotlib inline"
      ]
    },
    {
      "cell_type": "markdown",
      "source": [
        "# Classes"
      ],
      "metadata": {
        "id": "kbFylmZfhU0K"
      }
    },
    {
      "cell_type": "markdown",
      "source": [
        "## Helper"
      ],
      "metadata": {
        "id": "vStJHUBeWrDq"
      }
    },
    {
      "cell_type": "code",
      "source": [
        "class DecisionTreeHelper:\n",
        "\n",
        "    def dictionary_depth_calculator(dictionary):\n",
        "        if isinstance(dictionary, dict):\n",
        "            return 1 + (max(map(DecisionTreeHelper.dictionary_depth_calculator, dictionary.values())) if dictionary else 0)\n",
        "        return 0  \n",
        "\n",
        "    def get_tree_depth(tree):\n",
        "        return round(DecisionTreeHelper.dictionary_depth_calculator(tree) / 2) \n",
        "\n",
        "    def get_all_nested_dict_values(d):\n",
        "        for v in d.values():\n",
        "            if isinstance(v, dict):\n",
        "                yield from DecisionTreeHelper.get_all_nested_dict_values(v)\n",
        "            else:\n",
        "                yield v\n",
        "\n",
        "    def probability(count, sum):\n",
        "        return count / sum\n",
        "\n",
        "    def log2(num):\n",
        "        return math.log2(num)\n",
        "    \n",
        "    def entropy(lst):\n",
        "        lst = list(filter(lambda x: (x > 0), [float(i) for i in lst]))\n",
        "        sum_lst = sum(lst)\n",
        "        probabilities = [DecisionTreeHelper.probability(item, sum_lst) for item in lst]\n",
        "        entropies = [-1*(p)*DecisionTreeHelper.log2(p) for p in probabilities]\n",
        "        return sum(entropies) if len(entropies) > 0 else 0.0\n",
        "\n",
        "    def print_dict(print_dict):\n",
        "        print(json.dumps(print_dict, sort_keys=True, indent=4))     \n",
        "\n",
        "    def is_nested_dict(tree):\n",
        "        if type(tree) is dict:\n",
        "            for value in tree.values():\n",
        "                if type(value) is dict:\n",
        "                    return True\n",
        "\n",
        "        return False\n",
        "\n",
        "    def ready_for_show_tree(tree):\n",
        "        tree_to_show = tree.copy()\n",
        "        for tree_to_show_attr, tree_to_show_value in tree_to_show.items():\n",
        "            if type(tree_to_show_value) is dict:\n",
        "                tree_to_show[tree_to_show_attr] = DecisionTreeHelper.ready_for_show_tree(tree_to_show_value)\n",
        "            elif type(tree_to_show_value) is list:\n",
        "                tree_to_show[tree_to_show_attr] = tree_to_show_value[0]\n",
        "            else:\n",
        "                tree_to_show[tree_to_show_attr] = tree_to_show_value\n",
        "        \n",
        "        return tree_to_show\n",
        "    \n",
        "    def show_tree(tree_to_show):\n",
        "        DecisionTreeHelper.print_dict(DecisionTreeHelper.ready_for_show_tree(tree_to_show))\n",
        "\n",
        "    def is_final_node(dic,features):\n",
        "        if DecisionTreeHelper.is_node(dic, features):\n",
        "            for attr, tree in dic.items():\n",
        "                if DecisionTreeHelper.is_all_list(tree):\n",
        "                    return True\n",
        "        \n",
        "        return False\n",
        "    \n",
        "    def is_all_list(dic):\n",
        "        if type(dic) is dict:\n",
        "            for attr, value in dic.items():\n",
        "                if type(value) is not list:\n",
        "                    return False\n",
        "\n",
        "            return True\n",
        "        else:\n",
        "            return False\n",
        "    \n",
        "    def has_improvment(new, old, threshold):\n",
        "        return new / old > (1 + (threshold / 100))\n",
        "\n",
        "    def count_final_nodes(tree, features, i = 0):\n",
        "        counter_tree = tree.copy()\n",
        "        for attr, item in counter_tree.items():\n",
        "            if DecisionTreeHelper.is_final_node(item, features):\n",
        "                i += 1\n",
        "                \n",
        "            elif type(item) is dict:\n",
        "                (counter_tree[attr], features, i) = DecisionTreeHelper.count_final_nodes(item, features, i)\n",
        "\n",
        "        return (counter_tree, features, i)\n",
        "    \n",
        "    def is_node(dic, features):\n",
        "        node = dic.copy()\n",
        "        if type(node) is dict:\n",
        "            if len(node) == 1:\n",
        "                for attr, value in node.items():\n",
        "                    if type(value) is dict and attr in features:\n",
        "                        return True\n",
        "\n",
        "        return False\n",
        "\n",
        "    def node_counter(tree, features, i = 1):\n",
        "        counter_tree = tree.copy()\n",
        "        for attr, item in counter_tree.items():\n",
        "            if DecisionTreeHelper.is_node(item, features):\n",
        "                i += 1\n",
        "\n",
        "            if type(item) is dict:\n",
        "                (counter_tree[attr], features, i) = DecisionTreeHelper.node_counter(item, features, i)\n",
        "\n",
        "        return (counter_tree, features, i)\n",
        "    \n",
        "    def node_count(tree, features):\n",
        "        return DecisionTreeHelper.node_counter(tree, features)[2]\n",
        "\n",
        "    def predictor(tree, row, default_label):\n",
        "        pred_tree = tree.copy()\n",
        "        if type(pred_tree) is dict:\n",
        "            for key, value in pred_tree.items():\n",
        "                if row[key] in value:\n",
        "                    return DecisionTreeHelper.predictor(value[row[key]], row, default_label)\n",
        "                else:\n",
        "                    return default_label\n",
        "        else:\n",
        "            return pred_tree[0]\n",
        "\n",
        "    def find_maximum_label(dataset, target_attribute):\n",
        "        x_train = dataset.drop([target_attribute], axis=1)\n",
        "        value_counts = dataset[target_attribute].value_counts().to_dict()\n",
        "        return max(value_counts, key=value_counts.get)\n",
        "\n",
        "    def dataframe_row_to_dict(dataframe):\n",
        "        return list(dataframe[:1].to_dict('index').values())[0]\n"
      ],
      "metadata": {
        "id": "xTXQcSCfSVM_"
      },
      "execution_count": 3,
      "outputs": []
    },
    {
      "cell_type": "markdown",
      "source": [
        "## Trainer"
      ],
      "metadata": {
        "id": "OYHcldrYWsN6"
      }
    },
    {
      "cell_type": "code",
      "source": [
        "class DecisionTreeTrainer:\n",
        "\n",
        "    train_dataset = None\n",
        "    maximum_label = None\n",
        "    target_attribute = ''\n",
        "    tree = {}\n",
        "    possible_values = {}\n",
        "\n",
        "    def __init__(self, target_attribute, train_dataset):\n",
        "        \n",
        "        # Assign Class Variabels\n",
        "        self.train_dataset = train_dataset\n",
        "        self.target_attribute = target_attribute\n",
        "\n",
        "        # Find Possible values\n",
        "        self.find_possible_values()\n",
        "\n",
        "        # Make Train\n",
        "        self.train()\n",
        "        self.compactor()\n",
        "\n",
        "    def get(self):\n",
        "        return self.tree\n",
        "\n",
        "    def find_possible_values(self):\n",
        "        values = {}\n",
        "        examples = self.train_dataset\n",
        "        for col in examples.columns:\n",
        "            values[col] = examples[col].unique().tolist()\n",
        "\n",
        "        self.possible_values = values\n",
        "\n",
        "    def train(self):\n",
        "        examples = self.train_dataset\n",
        "        target_attribute = self.target_attribute\n",
        "\n",
        "        self.maximum_label = DecisionTreeHelper.find_maximum_label(examples, target_attribute)\n",
        "        self.tree = self.id3(examples, target_attribute, list(examples.drop([target_attribute], axis=1).columns))\n",
        "\n",
        "    def id3(self, examples, target_attribute, attributes):\n",
        "        possible_values = self.possible_values\n",
        "        tree = {}\n",
        "        value_counts = examples[target_attribute].value_counts().to_dict()\n",
        "        voting_selection = max(value_counts, key=value_counts.get)\n",
        "        return_values = [voting_selection, value_counts[voting_selection]]\n",
        "\n",
        "        # If all examples are positive, Return the single-node tree Root, with label = +.\n",
        "        # If all examples are negative, Return the single-node tree Root, with label = -.\n",
        "        if len(value_counts) == 1:\n",
        "            return return_values\n",
        "\n",
        "        # If number of predicting attributes is empty, then Return the single node tree Root,\n",
        "        # with label = most common value of the target attribute in the examples.\n",
        "        elif not attributes:\n",
        "            return return_values\n",
        "\n",
        "        # Otherwise Begin\n",
        "        else:\n",
        "            # A ← The Attribute that best classifies examples.\n",
        "            best = self.best_classifier(examples, attributes)\n",
        "            tree[best] = {}\n",
        "            # possible_values = list(examples[best].value_counts().to_dict().keys())\n",
        "            possible_values = possible_values[best]\n",
        "            remaining_attributes = [attribute for attribute in attributes if attribute != best]\n",
        "            # Decision Tree attribute for Root = A.\n",
        "            # For each possible value, vi, of A,\n",
        "            for possible_value in possible_values:\n",
        "                # Add a new tree branch below Root, corresponding to the test A = vi.\n",
        "                # Let Examples(vi) be the subset of examples that have the value vi for A\n",
        "                sub_example = examples[examples[best] == possible_value]\n",
        "                # If Examples(vi) is empty\n",
        "                if sub_example.empty:\n",
        "                    # Then below this new branch add a leaf node with label = most common target value in the examples\n",
        "                    tree[best][possible_value] = [voting_selection, 0]\n",
        "                else:\n",
        "                    # Else below this new branch add the subtree ID3 (Examples(vi), Target_Attribute, Attributes – {A})\n",
        "                    tree[best][possible_value] = self.id3(sub_example, target_attribute, remaining_attributes)\n",
        "\n",
        "            return tree\n",
        "           \n",
        "    def best_classifier(self, examples, attributes):\n",
        "        target_attribute = self.target_attribute\n",
        "\n",
        "        y_train = examples[target_attribute]\n",
        "        x_train = examples.drop([target_attribute], axis=1)\n",
        "        \n",
        "        y_train_count = y_train.value_counts().to_list()\n",
        "        all_entropy = DecisionTreeHelper.entropy(y_train_count)\n",
        "\n",
        "        columns = list(x_train.columns)\n",
        "        columns = list(filter(lambda column: column in attributes, columns))\n",
        "        attributes = {x:[] for x in columns}\n",
        "        for attribute in attributes.keys():\n",
        "            attributes[attribute] = list(x_train[attribute].value_counts().keys())\n",
        "        \n",
        "        ig = {}\n",
        "        \n",
        "        for attribute, attribute_values in attributes.items():\n",
        "            attribute_entropy = 0\n",
        "\n",
        "            for attribute_value in attribute_values:\n",
        "                list_values = y_train[x_train[attribute] == attribute_value].value_counts().to_list()\n",
        "                entropy = DecisionTreeHelper.entropy(list_values)\n",
        "                attribute_entropy += sum(list_values)/sum(y_train_count)*entropy\n",
        "            \n",
        "            ig[attribute] = all_entropy - attribute_entropy\n",
        "\n",
        "        return max(ig, key=ig.get)  \n",
        "    \n",
        "    def compactor(self):\n",
        "        tree = self.get()\n",
        "        root = list(tree.keys())[0]\n",
        "        old_tree = tree[root]\n",
        "        while True:\n",
        "            new_tree = self.single_compactor(old_tree)\n",
        "            if new_tree == old_tree:\n",
        "                break\n",
        "            else:\n",
        "                old_tree = new_tree\n",
        "\n",
        "        return {\n",
        "            root:new_tree\n",
        "        }\n",
        "\n",
        "    def single_compactor(self, tree):\n",
        "        tree = self.dictionary_compactor(tree)\n",
        "        if type(tree) is dict:\n",
        "            for attribute, label in tree.items():\n",
        "                tree[attribute] = self.single_compactor(label)\n",
        "        \n",
        "        return tree\n",
        "\n",
        "    def dictionary_compactor(self, tree):\n",
        "        if type(tree) is not dict:\n",
        "            return tree\n",
        "        \n",
        "        list_of_values = list(DecisionTreeHelper.get_all_nested_dict_values(tree))\n",
        "        labels = set(list(map(lambda x: x[0], list_of_values)))\n",
        "\n",
        "        if len(labels) == 1:\n",
        "            result = [list(labels)[0], 0]\n",
        "            for item in list_of_values:\n",
        "                result[1] += item[1]\n",
        "            return result\n",
        "\n",
        "        return tree\n",
        "\n",
        "    def get_target(self):\n",
        "        return self.target_attribute\n",
        "\n",
        "    def get_dataset(self):\n",
        "        return self.train_dataset\n",
        "    \n",
        "    def get_maximum_label(self):\n",
        "        return self.maximum_label\n",
        "\n",
        "    def get_features(self):\n",
        "        features = list(self.train_dataset.columns)\n",
        "        features.remove(self.target_attribute)\n",
        "        return features\n",
        "\n",
        "    def get_count_nodes(self):\n",
        "        return DecisionTreeHelper.node_count(self.get(), self.get_features())\n",
        "\n",
        "    def predictor(self, row):\n",
        "        return DecisionTreeHelper.predictor(self.get(), row, self.maximum_label)\n"
      ],
      "metadata": {
        "id": "yFpgJ7IOSxaV"
      },
      "execution_count": 4,
      "outputs": []
    },
    {
      "cell_type": "markdown",
      "source": [
        "## Tester"
      ],
      "metadata": {
        "id": "YLbbUd_IZPvZ"
      }
    },
    {
      "cell_type": "code",
      "source": [
        "class DecisionTreeTester:\n",
        "\n",
        "    tree = None\n",
        "    target_attribute = None\n",
        "    default_label = None\n",
        "    test_dataset = None\n",
        "    accuracy = 0.0\n",
        "\n",
        "    def __init__(self, tree, target_attribute, test_dataset, default_label = None):\n",
        "        self.tree = tree.copy()\n",
        "        self.target_attribute = target_attribute\n",
        "        self.test_dataset = test_dataset\n",
        "        self.default_label = default_label\n",
        "\n",
        "        self.test()\n",
        "    \n",
        "    def test(self):\n",
        "        target_attribute = self.target_attribute\n",
        "        test_dataset = self.test_dataset\n",
        "        tree = self.tree\n",
        "\n",
        "        result = []\n",
        "\n",
        "        for i, row in test_dataset.iterrows():\n",
        "            row = dict(row)\n",
        "            res = DecisionTreeHelper.predictor(tree, row, self.default_label)\n",
        "            result.append(res == row[target_attribute])\n",
        "\n",
        "        self.accuracy = sum(result) / len(result)\n",
        "    \n",
        "    def get_accuracy(self):\n",
        "        return self.accuracy * 100\n"
      ],
      "metadata": {
        "id": "8kQZgvMfZRRS"
      },
      "execution_count": 5,
      "outputs": []
    },
    {
      "cell_type": "markdown",
      "source": [
        "## Pruning"
      ],
      "metadata": {
        "id": "ykf58d6Mb8JA"
      }
    },
    {
      "cell_type": "code",
      "source": [
        "class DecisionTreePruning:\n",
        "\n",
        "    train_dataset = None\n",
        "    pruning_dataset = None\n",
        "    trainer = None\n",
        "    target_attribute = ''\n",
        "    tree = {}\n",
        "    threshold = 0\n",
        "    accuracies = []\n",
        "    node_counts = 0\n",
        "    features = []\n",
        "\n",
        "    def __init__(self, trainer, pruning_dataset, threshold = 0):\n",
        "        self.tree = trainer.get().copy()\n",
        "        self.target_attribute = trainer.target_attribute\n",
        "        self.node_counts = trainer.get_count_nodes()\n",
        "        self.features = trainer.get_features().copy()\n",
        "        self.train_dataset = trainer.get_dataset()\n",
        "\n",
        "        self.pruning_dataset = pruning_dataset\n",
        "        self.threshold = threshold\n",
        "\n",
        "        self.pruning()\n",
        "\n",
        "    def pruning(self):\n",
        "        selected_tree = self.tree\n",
        "        target_attribute = self.target_attribute\n",
        "        pruning_dataset = self.pruning_dataset\n",
        "        train_dataset = self.train_dataset\n",
        "        threshold = self.threshold\n",
        "        features = self.features.copy()\n",
        "\n",
        "        accuracy = DecisionTreeTester(selected_tree, target_attribute, pruning_dataset).get_accuracy()\n",
        "        \n",
        "        ps_accuracies = [\n",
        "            {\n",
        "                'node': self.node_counts,\n",
        "                'train_accuracy':  DecisionTreeTester(selected_tree, target_attribute, train_dataset).get_accuracy(),\n",
        "                'validation_accuracy': accuracy,\n",
        "                'tree': selected_tree\n",
        "            }\n",
        "        ]\n",
        "\n",
        "        while True:\n",
        "            tree_list = []\n",
        "            final_nodes = DecisionTreeHelper.count_final_nodes(selected_tree, features)[2]\n",
        "            \n",
        "            for i in range(1, final_nodes + 1):\n",
        "                dct = {}\n",
        "                dct['tree'] = self.pruning_single_node(selected_tree, i)[0]\n",
        "                dct['validation_accuracy'] = DecisionTreeTester(dct['tree'], target_attribute, pruning_dataset).get_accuracy()\n",
        "\n",
        "                if DecisionTreeHelper.has_improvment(dct['validation_accuracy'], accuracy, threshold):\n",
        "                    tree_list.append(dct)\n",
        "                \n",
        "            \n",
        "            if tree_list:\n",
        "                tree_list.sort(key=lambda e: e['validation_accuracy'], reverse=True)\n",
        "                self.node_counts += -1\n",
        "                selected_tree = tree_list[0]['tree']\n",
        "                train_accuracy = DecisionTreeTester(tree_list[0]['tree'], target_attribute, train_dataset).get_accuracy()\n",
        "                accuracy = tree_list[0]['validation_accuracy']\n",
        "\n",
        "                ps_accuracies.append({\n",
        "                    'node': self.node_counts,\n",
        "                    'train_accuracy': train_accuracy,\n",
        "                    'validation_accuracy': accuracy,\n",
        "                    'tree': selected_tree\n",
        "                })\n",
        "            else:\n",
        "                break\n",
        "            \n",
        "        self.accuracies = ps_accuracies.copy()\n",
        "        self.tree = selected_tree.copy()\n",
        "\n",
        "    def pruning_single_node(self, tree, target, i = 0):\n",
        "        psn_tree = tree.copy()\n",
        "        features = self.features.copy()\n",
        "\n",
        "        for attr, item in psn_tree.items():\n",
        "            if DecisionTreeHelper.is_final_node(item, features):\n",
        "                i += 1\n",
        "                if target == i:\n",
        "                    result = {}\n",
        "                    for attr2, item2 in item.items():\n",
        "                        for attr3, item3 in item2.items():\n",
        "                            label, count = item3\n",
        "                            if not label in result:\n",
        "                                result[label] = 0\n",
        "\n",
        "                            result[label] += count\n",
        "\n",
        "                    label = max(result, key=result.get)\n",
        "                    psn_tree[attr] = [label, result[label]]\n",
        "                    return (psn_tree, i)\n",
        "                \n",
        "            elif type(item) is dict:\n",
        "                (psn_tree[attr], i) = self.pruning_single_node(item, target, i)\n",
        "\n",
        "        return (psn_tree, i)\n",
        "\n",
        "    def get(self):\n",
        "        return self.tree\n",
        "    \n",
        "    def get_target(self):\n",
        "        return self.target_attribute\n",
        "    \n",
        "    def get_accuracies(self):\n",
        "        return self.accuracies\n",
        "    \n",
        "    def get_accuracy(self):\n",
        "        return self.accuracies[-1]['validation_accuracy']\n",
        "\n",
        "    def predictor(self, row):\n",
        "        return DecisionTreeHelper.predictor(self.get(), row, self.maximum_label)\n"
      ],
      "metadata": {
        "id": "GK-VKspPb_Yk"
      },
      "execution_count": 6,
      "outputs": []
    },
    {
      "cell_type": "markdown",
      "source": [
        "## Fold Cross Validation"
      ],
      "metadata": {
        "id": "7fbIhWOqgxmq"
      }
    },
    {
      "cell_type": "code",
      "source": [
        "class DecisionTreeFoldCrossValidation:\n",
        "\n",
        "    fold_number = 0\n",
        "    pruning_threshold = 0.0\n",
        "    primary_dataset = None\n",
        "    train_dataset = []\n",
        "    validation_dataset = []\n",
        "    test_dataset = None\n",
        "    target_attribute = ''\n",
        "    trees = []\n",
        "    maximum_label = ''\n",
        "    accuracies = []\n",
        "    accuracy = []\n",
        "\n",
        "    def __init__(self, primary_dataset, test_dataset, target_attribute, fold_number = 4, pruning_threshold = 0.0):\n",
        "        self.fold_number = fold_number\n",
        "        self.primary_dataset = primary_dataset\n",
        "        self.test_dataset = test_dataset\n",
        "        self.target_attribute = target_attribute\n",
        "        self.pruning_threshold = pruning_threshold\n",
        "\n",
        "        self.randomizer()\n",
        "        self.divider()\n",
        "        self.plant_trees()\n",
        "        self.find_maximum_label()\n",
        "        self.test()\n",
        "    \n",
        "    def randomizer(self):\n",
        "        self.primary_dataset = self.primary_dataset.sample(frac=1)\n",
        "\n",
        "    def divider(self):\n",
        "        primary_dataset = self.primary_dataset\n",
        "        primary_dataset_len = len(primary_dataset.index)\n",
        "        fold_number = self.fold_number\n",
        "        train_dataset = []\n",
        "        validation_dataset = []\n",
        "        data_bounds = {\n",
        "            'train_dataset': [],\n",
        "            'validation_dataset': []\n",
        "        }\n",
        "\n",
        "        for i in range(fold_number):\n",
        "            data_bounds['train_dataset'].append([\n",
        "                [0, int(float((fold_number - i - 1)) / float(fold_number)*primary_dataset_len)],\n",
        "                [int(float((fold_number - i)) / float(fold_number)*primary_dataset_len), int(float((fold_number)) / float(fold_number)*primary_dataset_len)]\n",
        "            ])\n",
        "\n",
        "            data_bounds['validation_dataset'].append([int(float((fold_number - i - 1)) / float(fold_number)*primary_dataset_len), int(float((fold_number - i)) / float(fold_number)*primary_dataset_len)])\n",
        "\n",
        "        for i in range(fold_number):\n",
        "            train_dataset.append(pd.concat([\n",
        "                primary_dataset[data_bounds['train_dataset'][i][0][0]:data_bounds['train_dataset'][i][0][1]],\n",
        "                primary_dataset[data_bounds['train_dataset'][i][1][0]:data_bounds['train_dataset'][i][1][1]]\n",
        "            ]))\n",
        "\n",
        "            validation_dataset.append(pd.concat([\n",
        "                primary_dataset[data_bounds['validation_dataset'][i][0]:data_bounds['validation_dataset'][i][1]],\n",
        "            ]))\n",
        "        \n",
        "        self.train_dataset = train_dataset.copy()\n",
        "        self.validation_dataset = validation_dataset.copy()\n",
        "\n",
        "    def plant_trees(self):\n",
        "\n",
        "        train_dataset = self.train_dataset.copy()\n",
        "        validation_dataset = self.validation_dataset.copy()\n",
        "        pruning_threshold = self.pruning_threshold\n",
        "        fold_number = self.fold_number\n",
        "        trees = []\n",
        "\n",
        "        for i in range(fold_number):\n",
        "            trainer = DecisionTreeTrainer('Class', train_dataset[i])\n",
        "            pruning = DecisionTreePruning(trainer, validation_dataset[i], pruning_threshold)\n",
        "            trees.append([trainer, pruning])\n",
        "\n",
        "        self.trees = trees.copy()\n",
        "    \n",
        "    def find_maximum_label(self):\n",
        "        maximum_label = DecisionTreeHelper.find_maximum_label(self.primary_dataset, self.target_attribute)\n",
        "\n",
        "    def predictor(self, row):\n",
        "        predictions = []\n",
        "        for i in range(self.fold_number):\n",
        "            trained, pruned = self.get()[i]\n",
        "            predictions.append({\n",
        "                'label': DecisionTreeHelper.predictor(pruned.get(), row, self.maximum_label),\n",
        "                'tree_accuracy' : pruned.get_accuracy()\n",
        "            })\n",
        "        return predictions\n",
        "\n",
        "    def test(self):\n",
        "        test_dataset = self.test_dataset\n",
        "        target_attribute = self.target_attribute\n",
        "        maximum_label = self.maximum_label\n",
        "        trees = self.trees.copy()\n",
        "        fold_number = self.fold_number\n",
        "        accuracies_result = []\n",
        "        accuracy_result = []\n",
        "\n",
        "        for i in range(self.fold_number):\n",
        "            trainer, pruning = trees[i].copy()\n",
        "            pruning_accuracies = pruning.get_accuracies().copy()\n",
        "            for j in range(len(pruning_accuracies)):\n",
        "                pruning_accuracies[j]['test_accuracy'] = DecisionTreeTester(pruning_accuracies[j]['tree'], target_attribute, test_dataset, maximum_label).get_accuracy()\n",
        "                del pruning_accuracies[j]['tree']\n",
        "            \n",
        "            accuracy_result.append(pruning_accuracies[-1])\n",
        "            accuracies_result.append(pruning_accuracies)\n",
        "\n",
        "        self.accuracy = accuracy_result\n",
        "        self.accuracies = accuracies_result\n",
        "\n",
        "    def get(self):\n",
        "        return self.trees\n",
        "\n",
        "    def get_accuracies(self):\n",
        "        return self.accuracies\n",
        "    \n",
        "    def get_accuracy(self):\n",
        "        return self.accuracy\n",
        "        \n"
      ],
      "metadata": {
        "id": "YhfFPUdXgMPu"
      },
      "execution_count": 7,
      "outputs": []
    },
    {
      "cell_type": "markdown",
      "source": [
        "# Exercise"
      ],
      "metadata": {
        "id": "Rh5xY-aMbdU8"
      }
    },
    {
      "cell_type": "code",
      "source": [
        "labels = ['Class', 'workclass', 'education', 'marital-status', 'occupation', 'relationship', 'race', 'sex', 'native-country']\n",
        "\n",
        "train_dataset = pd.read_csv('/content/drive/MyDrive/Datasets/adult.train.10k.discrete', header=None, names=labels)\n",
        "test_dataset = pd.read_csv('/content/drive/MyDrive/Datasets/adult.test.10k.discrete', header=None, names=labels)\n",
        "\n",
        "train_dataset = train_dataset.applymap(lambda x: x.strip() if isinstance(x, str) else x)\n",
        "test_dataset = test_dataset.applymap(lambda x: x.strip() if isinstance(x, str) else x)\n",
        "\n",
        "target_attribute = 'Class'"
      ],
      "metadata": {
        "id": "Da_Bvyz5bkLe"
      },
      "execution_count": 8,
      "outputs": []
    },
    {
      "cell_type": "markdown",
      "source": [
        "## Question 1"
      ],
      "metadata": {
        "id": "OoyLlEB70Ekv"
      }
    },
    {
      "cell_type": "markdown",
      "source": [
        "### Do actions"
      ],
      "metadata": {
        "id": "NFlq5eyFl_ic"
      }
    },
    {
      "cell_type": "code",
      "source": [
        "question1_train_accuracy = {}\n",
        "question1_test_accuracy = {}\n",
        "question1_node_counts = {}\n",
        "question1_depth = {}"
      ],
      "metadata": {
        "id": "h-KSmdzkQcWv"
      },
      "execution_count": 447,
      "outputs": []
    },
    {
      "cell_type": "code",
      "source": [
        "for j in [30, 40, 50, 60, 70, 100]:\n",
        "    question1_train_accuracy[j] = []\n",
        "    question1_test_accuracy[j] = []\n",
        "    question1_node_counts[j] = []\n",
        "    question1_depth[j] = []\n",
        "\n",
        "    for i in range(3):\n",
        "        q1_train_dataset = train_dataset.sample( n = j * 100 )\n",
        "        q1_test_dataset = test_dataset\n",
        "        q1_trainer = DecisionTreeTrainer(target_attribute, q1_train_dataset)\n",
        "        q1_tree = q1_trainer.get()\n",
        "        q1_node_counts = q1_trainer.get_count_nodes()\n",
        "        q1_depth = DecisionTreeHelper.get_tree_depth(q1_tree)\n",
        "\n",
        "        q1_tester = DecisionTreeTester(q1_tree, target_attribute, q1_test_dataset, q1_trainer.get_maximum_label())\n",
        "        q1_accuracy = q1_tester.get_accuracy()\n",
        "\n",
        "        q1_tester2 = DecisionTreeTester(q1_tree, target_attribute, q1_train_dataset, q1_trainer.get_maximum_label())\n",
        "        q1_accuracy2 = q1_tester2.get_accuracy()\n",
        "\n",
        "        question1_train_accuracy[j].append(q1_accuracy2)\n",
        "        question1_test_accuracy[j].append(q1_accuracy)\n",
        "        question1_node_counts[j].append(q1_node_counts)\n",
        "        question1_depth[j].append(q1_depth)\n",
        "\n",
        "        print(f'For {j}% Train Accuracy: {q1_accuracy2}, Test Accuracy: {q1_accuracy}, Node Counts: {q1_node_counts}, Depth: {q1_depth}')\n",
        "        # DecisionTreeHelper.show_tree(q1_tree)\n",
        "\n",
        "    print('')"
      ],
      "metadata": {
        "id": "GNGAe1dWdA_s",
        "colab": {
          "base_uri": "https://localhost:8080/"
        },
        "outputId": "de0a851b-80ed-4f88-aaf6-1b14020ebb05"
      },
      "execution_count": 448,
      "outputs": [
        {
          "output_type": "stream",
          "name": "stdout",
          "text": [
            "For 30% Train Accuracy: 88.56666666666668, Test Accuracy: 79.67, Node Counts: 187, Depth: 7\n",
            "For 30% Train Accuracy: 89.33333333333333, Test Accuracy: 79.69000000000001, Node Counts: 177, Depth: 7\n",
            "For 30% Train Accuracy: 90.16666666666666, Test Accuracy: 79.4, Node Counts: 198, Depth: 7\n",
            "\n",
            "For 40% Train Accuracy: 88.275, Test Accuracy: 80.17999999999999, Node Counts: 232, Depth: 7\n",
            "For 40% Train Accuracy: 88.425, Test Accuracy: 78.89, Node Counts: 216, Depth: 8\n",
            "For 40% Train Accuracy: 88.9, Test Accuracy: 79.84, Node Counts: 246, Depth: 7\n",
            "\n",
            "For 50% Train Accuracy: 88.0, Test Accuracy: 79.95, Node Counts: 273, Depth: 8\n",
            "For 50% Train Accuracy: 88.7, Test Accuracy: 80.41, Node Counts: 265, Depth: 7\n",
            "For 50% Train Accuracy: 89.02, Test Accuracy: 79.89, Node Counts: 261, Depth: 8\n",
            "\n",
            "For 60% Train Accuracy: 88.26666666666667, Test Accuracy: 80.19, Node Counts: 326, Depth: 7\n",
            "For 60% Train Accuracy: 88.18333333333334, Test Accuracy: 80.63, Node Counts: 324, Depth: 8\n",
            "For 60% Train Accuracy: 88.35, Test Accuracy: 80.17, Node Counts: 312, Depth: 7\n",
            "\n",
            "For 70% Train Accuracy: 88.18571428571428, Test Accuracy: 80.13, Node Counts: 362, Depth: 8\n",
            "For 70% Train Accuracy: 88.17142857142856, Test Accuracy: 80.36999999999999, Node Counts: 342, Depth: 8\n",
            "For 70% Train Accuracy: 87.91428571428571, Test Accuracy: 80.58999999999999, Node Counts: 349, Depth: 8\n",
            "\n",
            "For 100% Train Accuracy: 87.53999999999999, Test Accuracy: 80.78999999999999, Node Counts: 431, Depth: 8\n",
            "For 100% Train Accuracy: 87.53999999999999, Test Accuracy: 80.76, Node Counts: 437, Depth: 8\n",
            "For 100% Train Accuracy: 87.53999999999999, Test Accuracy: 80.88, Node Counts: 437, Depth: 8\n",
            "\n"
          ]
        }
      ]
    },
    {
      "cell_type": "markdown",
      "source": [
        "### Plot"
      ],
      "metadata": {
        "id": "ueipdLqyRcxs"
      }
    },
    {
      "cell_type": "code",
      "source": [
        "print(question1_train_accuracy)\n",
        "print(question1_test_accuracy)\n",
        "print(question1_node_counts)\n",
        "print(question1_depth)"
      ],
      "metadata": {
        "colab": {
          "base_uri": "https://localhost:8080/"
        },
        "id": "OKb_63dyRe4E",
        "outputId": "3641dd14-892b-430c-c284-009620164926"
      },
      "execution_count": 449,
      "outputs": [
        {
          "output_type": "stream",
          "name": "stdout",
          "text": [
            "{30: [88.56666666666668, 89.33333333333333, 90.16666666666666], 40: [88.275, 88.425, 88.9], 50: [88.0, 88.7, 89.02], 60: [88.26666666666667, 88.18333333333334, 88.35], 70: [88.18571428571428, 88.17142857142856, 87.91428571428571], 100: [87.53999999999999, 87.53999999999999, 87.53999999999999]}\n",
            "{30: [79.67, 79.69000000000001, 79.4], 40: [80.17999999999999, 78.89, 79.84], 50: [79.95, 80.41, 79.89], 60: [80.19, 80.63, 80.17], 70: [80.13, 80.36999999999999, 80.58999999999999], 100: [80.78999999999999, 80.76, 80.88]}\n",
            "{30: [187, 177, 198], 40: [232, 216, 246], 50: [273, 265, 261], 60: [326, 324, 312], 70: [362, 342, 349], 100: [431, 437, 437]}\n",
            "{30: [7, 7, 7], 40: [7, 8, 7], 50: [8, 7, 8], 60: [7, 8, 7], 70: [8, 8, 8], 100: [8, 8, 8]}\n"
          ]
        }
      ]
    },
    {
      "cell_type": "code",
      "source": [
        "question1_train_accuracy_avg = {}\n",
        "question1_test_accuracy_avg = {}\n",
        "question1_node_counts_avg = {}\n",
        "question1_depth_avg = {}\n",
        "x = [30, 40, 50, 60, 70, 100]\n",
        "\n",
        "for i in x:\n",
        "    question1_train_accuracy_avg[i] = sum(question1_train_accuracy[i]) / len(question1_train_accuracy[i])\n",
        "    question1_test_accuracy_avg[i] = sum(question1_test_accuracy[i]) / len(question1_test_accuracy[i])\n",
        "    question1_node_counts_avg[i] = sum(question1_node_counts[i]) / len(question1_node_counts[i])\n",
        "    question1_depth_avg[i] = sum(question1_depth[i]) / len(question1_depth[i])\n",
        "\n",
        "question1_train_accuracy_avg_list = []\n",
        "question1_test_accuracy_avg_list = []\n",
        "question1_node_counts_avg_list = []\n",
        "question1_depth_avg_list = []\n",
        "\n",
        "for i in x:\n",
        "    question1_train_accuracy_avg_list.append(question1_train_accuracy_avg[i])\n",
        "    question1_test_accuracy_avg_list.append(question1_test_accuracy_avg[i])\n",
        "    question1_node_counts_avg_list.append(question1_node_counts_avg[i])\n",
        "    question1_depth_avg_list.append(question1_depth_avg[i])\n",
        "\n",
        "print(question1_train_accuracy_avg_list)\n",
        "print(question1_test_accuracy_avg_list)\n",
        "print(question1_node_counts_avg_list)\n",
        "print(question1_depth_avg_list)"
      ],
      "metadata": {
        "colab": {
          "base_uri": "https://localhost:8080/"
        },
        "id": "f_b8iSMka6-H",
        "outputId": "02ef5097-25f0-40c4-8cb6-62754899df2a"
      },
      "execution_count": 452,
      "outputs": [
        {
          "output_type": "stream",
          "name": "stdout",
          "text": [
            "[89.35555555555555, 88.53333333333335, 88.57333333333332, 88.26666666666665, 88.09047619047618, 87.54]\n",
            "[79.58666666666667, 79.63666666666667, 80.08333333333333, 80.33, 80.36333333333333, 80.81]\n",
            "[187.33333333333334, 231.33333333333334, 266.3333333333333, 320.6666666666667, 351.0, 435.0]\n",
            "[7.0, 7.333333333333333, 7.666666666666667, 7.333333333333333, 8.0, 8.0]\n"
          ]
        }
      ]
    },
    {
      "cell_type": "code",
      "source": [
        "fig, (ax1, ax2, ax3) = plt.subplots(3)\n",
        "\n",
        "fig.set_figheight(10)\n",
        "fig.set_figwidth(10)\n",
        "\n",
        "ax1.plot(x, question1_train_accuracy_avg_list, label='Train Accuracy')\n",
        "ax1.plot(x, question1_test_accuracy_avg_list, 'r', label='Test Accuracy')\n",
        "ax1.set_title('Train and Test Accuracy')\n",
        "ax1.legend()\n",
        "\n",
        "ax2.plot(x, question1_node_counts_avg_list, 'k')\n",
        "ax2.set_title('Node counts')\n",
        "\n",
        "ax3.plot(x, question1_depth_avg_list, 'g')\n",
        "ax3.set_title('Depth')\n"
      ],
      "metadata": {
        "colab": {
          "base_uri": "https://localhost:8080/",
          "height": 0
        },
        "id": "q3Y97ygCUM0O",
        "outputId": "bea07e36-9a2e-438f-de48-2ce734fae0f2"
      },
      "execution_count": 482,
      "outputs": [
        {
          "output_type": "execute_result",
          "data": {
            "text/plain": [
              "Text(0.5, 1.0, 'Depth')"
            ]
          },
          "metadata": {},
          "execution_count": 482
        },
        {
          "output_type": "display_data",
          "data": {
            "text/plain": [
              "<Figure size 720x720 with 3 Axes>"
            ],
            "image/png": "[encoded data removed]"
          },
          "metadata": {
            "needs_background": "light"
          }
        }
      ]
    },
    {
      "cell_type": "markdown",
      "source": [
        "## Question 2"
      ],
      "metadata": {
        "id": "JoOQQE33l5Io"
      }
    },
    {
      "cell_type": "markdown",
      "source": [
        "#### Section A\n"
      ],
      "metadata": {
        "id": "LTFOazEMmDkB"
      }
    },
    {
      "cell_type": "code",
      "source": [
        "train_dataset_sample = train_dataset.sample(frac = 1)\n",
        "q2_train_dataset = train_dataset_sample[:7500]\n",
        "q2_validation_dataset = train_dataset_sample[7500:]\n",
        "q2_test_dataset = test_dataset"
      ],
      "metadata": {
        "id": "Io4vsp8bl7BG"
      },
      "execution_count": 461,
      "outputs": []
    },
    {
      "cell_type": "code",
      "source": [
        "q2_trainer = DecisionTreeTrainer(target_attribute, q2_train_dataset)"
      ],
      "metadata": {
        "id": "CozmORURmbAH"
      },
      "execution_count": 471,
      "outputs": []
    },
    {
      "cell_type": "code",
      "source": [
        "q2_pruner = DecisionTreePruning(q2_trainer, q2_validation_dataset)"
      ],
      "metadata": {
        "id": "fXu3MEwooyIv"
      },
      "execution_count": 472,
      "outputs": []
    },
    {
      "cell_type": "code",
      "source": [
        "q2_accuracies = q2_pruner.get_accuracies().copy()\n",
        "\n",
        "for i in range(len(q2_accuracies)):\n",
        "    if 'tree' in q2_accuracies[i]:\n",
        "        q2_accuracies[i]['test_accuracy'] = DecisionTreeTester(q2_accuracies[i]['tree'], target_attribute, q2_test_dataset, q2_trainer.get_maximum_label()).get_accuracy()\n",
        "        del q2_accuracies[i]['tree']"
      ],
      "metadata": {
        "id": "BZRkr-o9nerH"
      },
      "execution_count": 487,
      "outputs": []
    },
    {
      "cell_type": "code",
      "source": [
        "q2_nodes = []\n",
        "q2_train_accuracies = []\n",
        "q2_validation_accuracies = []\n",
        "q2_test_accuracies = []\n",
        "\n",
        "for i in range(len(q2_accuracies)):\n",
        "    q2_nodes.append(q2_accuracies[i]['node'])\n",
        "    q2_train_accuracies.append((100 - q2_accuracies[i]['train_accuracy']) / 100)\n",
        "    q2_validation_accuracies.append((100 - q2_accuracies[i]['validation_accuracy']) / 100)\n",
        "    q2_test_accuracies.append((100 - q2_accuracies[i]['test_accuracy']) / 100)"
      ],
      "metadata": {
        "id": "Z44IsHxioCvo"
      },
      "execution_count": 499,
      "outputs": []
    },
    {
      "cell_type": "code",
      "source": [
        "fig, (ax1, ax2, ax3) = plt.subplots(3)\n",
        "\n",
        "fig.set_figheight(8)\n",
        "fig.set_figwidth(10)\n",
        "\n",
        "ax1.plot(q2_nodes, q2_train_accuracies, color='r', label='Train Error')\n",
        "ax1.invert_xaxis()\n",
        "ax1.legend()\n",
        "\n",
        "ax2.plot(q2_nodes, q2_validation_accuracies, color='g', label='Validation Error')\n",
        "ax2.invert_xaxis()\n",
        "ax2.legend()\n",
        "\n",
        "ax3.plot(q2_nodes, q2_test_accuracies, color='b', label='Test Error')\n",
        "ax3.invert_xaxis()\n",
        "ax3.legend()"
      ],
      "metadata": {
        "colab": {
          "base_uri": "https://localhost:8080/",
          "height": 501
        },
        "id": "G_MDAZUDvWKI",
        "outputId": "58ac17c1-c762-4b90-8fa7-f42c180bfdd4"
      },
      "execution_count": 502,
      "outputs": [
        {
          "output_type": "execute_result",
          "data": {
            "text/plain": [
              "<matplotlib.legend.Legend at 0x7f571aef1a90>"
            ]
          },
          "metadata": {},
          "execution_count": 502
        },
        {
          "output_type": "display_data",
          "data": {
            "text/plain": [
              "<Figure size 720x576 with 3 Axes>"
            ],
            "image/png": "[encoded data removed]"
          },
          "metadata": {
            "needs_background": "light"
          }
        }
      ]
    },
    {
      "cell_type": "markdown",
      "source": [
        "#### Section C"
      ],
      "metadata": {
        "id": "fkn760I707PR"
      }
    },
    {
      "cell_type": "code",
      "source": [
        "q2_c_test_dataset_sample = test_dataset.sample(frac = 1)\n",
        "\n",
        "q2_c_train_dataset = train_dataset\n",
        "q2_c_validation_dataset = q2_c_test_dataset_sample[:2500]\n",
        "q2_c_test_dataset = q2_c_test_dataset_sample[2500:]"
      ],
      "metadata": {
        "id": "abeQVfe1082K"
      },
      "execution_count": 512,
      "outputs": []
    },
    {
      "cell_type": "code",
      "source": [
        "q2_c_trainer = DecisionTreeTrainer(target_attribute, q2_c_train_dataset)"
      ],
      "metadata": {
        "id": "CSei2Uuu1gBb"
      },
      "execution_count": 513,
      "outputs": []
    },
    {
      "cell_type": "code",
      "source": [
        "q2_c_pruner = DecisionTreePruning(q2_c_trainer, q2_c_validation_dataset)"
      ],
      "metadata": {
        "id": "TJWt8IQp10eX"
      },
      "execution_count": 514,
      "outputs": []
    },
    {
      "cell_type": "code",
      "source": [
        "q2_c_accuracies = q2_c_pruner.get_accuracies().copy()\n",
        "\n",
        "for i in range(len(q2_c_accuracies)):\n",
        "    if 'tree' in q2_c_accuracies[i]:\n",
        "        q2_c_accuracies[i]['test_accuracy'] = DecisionTreeTester(q2_c_accuracies[i]['tree'], target_attribute, q2_c_test_dataset, q2_c_trainer.get_maximum_label()).get_accuracy()\n",
        "        del q2_c_accuracies[i]['tree']"
      ],
      "metadata": {
        "id": "BNVF7Fih1g-A"
      },
      "execution_count": 515,
      "outputs": []
    },
    {
      "cell_type": "code",
      "source": [
        "q2_c_nodes = []\n",
        "q2_c_train_accuracies = []\n",
        "q2_c_validation_accuracies = []\n",
        "q2_c_test_accuracies = []\n",
        "\n",
        "for i in range(len(q2_c_accuracies)):\n",
        "    q2_c_nodes.append(q2_c_accuracies[i]['node'])\n",
        "    q2_c_train_accuracies.append((100 - q2_c_accuracies[i]['train_accuracy']) / 100)\n",
        "    q2_c_validation_accuracies.append((100 - q2_c_accuracies[i]['validation_accuracy']) / 100)\n",
        "    q2_c_test_accuracies.append((100 - q2_c_accuracies[i]['test_accuracy']) / 100)"
      ],
      "metadata": {
        "id": "EdDAVc1M1qpf"
      },
      "execution_count": 516,
      "outputs": []
    },
    {
      "cell_type": "code",
      "source": [
        "fig, (ax1, ax2, ax3) = plt.subplots(3)\n",
        "\n",
        "fig.set_figheight(8)\n",
        "fig.set_figwidth(10)\n",
        "\n",
        "ax1.plot(q2_c_nodes, q2_c_train_accuracies, color='r', label='Train Error')\n",
        "ax1.invert_xaxis()\n",
        "ax1.legend()\n",
        "\n",
        "ax2.plot(q2_c_nodes, q2_c_validation_accuracies, color='g', label='Validation Error')\n",
        "ax2.invert_xaxis()\n",
        "ax2.legend()\n",
        "\n",
        "ax3.plot(q2_c_nodes, q2_c_test_accuracies, color='b', label='Test Error')\n",
        "ax3.invert_xaxis()\n",
        "ax3.legend()"
      ],
      "metadata": {
        "colab": {
          "base_uri": "https://localhost:8080/",
          "height": 501
        },
        "id": "a_HBEdr81w3R",
        "outputId": "11fdfe4c-ee01-4a87-95a3-93487ed58dea"
      },
      "execution_count": 517,
      "outputs": [
        {
          "output_type": "execute_result",
          "data": {
            "text/plain": [
              "<matplotlib.legend.Legend at 0x7f572ee6bf90>"
            ]
          },
          "metadata": {},
          "execution_count": 517
        },
        {
          "output_type": "display_data",
          "data": {
            "text/plain": [
              "<Figure size 720x576 with 3 Axes>"
            ],
            "image/png": "[encoded data removed]"
          },
          "metadata": {
            "needs_background": "light"
          }
        }
      ]
    },
    {
      "cell_type": "markdown",
      "source": [
        "#### Section D"
      ],
      "metadata": {
        "id": "yMVcnlo2H7o3"
      }
    },
    {
      "cell_type": "code",
      "source": [
        "q2d_train_dataset = train_dataset.sample(frac = 1)\n",
        "q2d_test_dataset = test_dataset"
      ],
      "metadata": {
        "id": "b5j5Hll0H9al"
      },
      "execution_count": 14,
      "outputs": []
    },
    {
      "cell_type": "code",
      "source": [
        "q2d_fold = DecisionTreeFoldCrossValidation(q2d_train_dataset, q2d_test_dataset, target_attribute)"
      ],
      "metadata": {
        "id": "I5S7lbOfJSS_"
      },
      "execution_count": 15,
      "outputs": []
    },
    {
      "cell_type": "code",
      "source": [
        "q2d_fold_accuracies = q2d_fold.get_accuracies().copy()\n",
        "\n",
        "print(q2d_fold_accuracies[0])\n",
        "print(q2d_fold_accuracies[1])\n",
        "print(q2d_fold_accuracies[2])\n",
        "print(q2d_fold_accuracies[3])"
      ],
      "metadata": {
        "colab": {
          "base_uri": "https://localhost:8080/"
        },
        "id": "Q9YA-VwiTzyR",
        "outputId": "fca0d358-61c5-443d-b7ee-46b4f7fdc762"
      },
      "execution_count": 40,
      "outputs": [
        {
          "output_type": "stream",
          "name": "stdout",
          "text": [
            "[{'node': 364, 'train_accuracy': 88.06666666666668, 'validation_accuracy': 79.72, 'test_accuracy': 80.71000000000001}, {'node': 363, 'train_accuracy': 88.03999999999999, 'validation_accuracy': 79.88, 'test_accuracy': 80.74}, {'node': 362, 'train_accuracy': 88.03999999999999, 'validation_accuracy': 80.0, 'test_accuracy': 80.73}, {'node': 361, 'train_accuracy': 88.02666666666667, 'validation_accuracy': 80.08, 'test_accuracy': 80.76}, {'node': 360, 'train_accuracy': 88.01333333333334, 'validation_accuracy': 80.12, 'test_accuracy': 80.76}, {'node': 359, 'train_accuracy': 87.98666666666666, 'validation_accuracy': 80.16, 'test_accuracy': 80.78}, {'node': 358, 'train_accuracy': 87.97333333333334, 'validation_accuracy': 80.2, 'test_accuracy': 80.78}, {'node': 357, 'train_accuracy': 87.94666666666666, 'validation_accuracy': 80.24, 'test_accuracy': 80.81}, {'node': 356, 'train_accuracy': 87.90666666666667, 'validation_accuracy': 80.28, 'test_accuracy': 80.82000000000001}, {'node': 355, 'train_accuracy': 87.90666666666667, 'validation_accuracy': 80.32000000000001, 'test_accuracy': 80.88}, {'node': 354, 'train_accuracy': 87.89333333333333, 'validation_accuracy': 80.36, 'test_accuracy': 80.88}, {'node': 353, 'train_accuracy': 87.88, 'validation_accuracy': 80.4, 'test_accuracy': 80.88}, {'node': 352, 'train_accuracy': 87.86666666666667, 'validation_accuracy': 80.44, 'test_accuracy': 80.89}, {'node': 351, 'train_accuracy': 87.85333333333334, 'validation_accuracy': 80.47999999999999, 'test_accuracy': 80.93}, {'node': 350, 'train_accuracy': 87.83999999999999, 'validation_accuracy': 80.52, 'test_accuracy': 80.95}, {'node': 349, 'train_accuracy': 87.82666666666667, 'validation_accuracy': 80.56, 'test_accuracy': 80.96}, {'node': 348, 'train_accuracy': 87.82666666666667, 'validation_accuracy': 80.60000000000001, 'test_accuracy': 81.0}, {'node': 347, 'train_accuracy': 87.81333333333333, 'validation_accuracy': 80.64, 'test_accuracy': 81.03}, {'node': 346, 'train_accuracy': 87.8, 'validation_accuracy': 80.67999999999999, 'test_accuracy': 81.08}, {'node': 345, 'train_accuracy': 87.8, 'validation_accuracy': 80.72, 'test_accuracy': 81.08}, {'node': 344, 'train_accuracy': 87.76, 'validation_accuracy': 80.76, 'test_accuracy': 81.08}, {'node': 343, 'train_accuracy': 87.74666666666666, 'validation_accuracy': 80.80000000000001, 'test_accuracy': 81.08}, {'node': 342, 'train_accuracy': 87.73333333333333, 'validation_accuracy': 80.84, 'test_accuracy': 81.08999999999999}, {'node': 341, 'train_accuracy': 87.72, 'validation_accuracy': 80.88, 'test_accuracy': 81.10000000000001}]\n",
            "[{'node': 359, 'train_accuracy': 87.81333333333333, 'validation_accuracy': 80.60000000000001, 'test_accuracy': 80.23}, {'node': 358, 'train_accuracy': 87.8, 'validation_accuracy': 80.72, 'test_accuracy': 80.28999999999999}, {'node': 357, 'train_accuracy': 87.78666666666666, 'validation_accuracy': 80.84, 'test_accuracy': 80.33}, {'node': 356, 'train_accuracy': 87.77333333333334, 'validation_accuracy': 80.96, 'test_accuracy': 80.35}, {'node': 355, 'train_accuracy': 87.76, 'validation_accuracy': 81.04, 'test_accuracy': 80.39}, {'node': 354, 'train_accuracy': 87.73333333333333, 'validation_accuracy': 81.12, 'test_accuracy': 80.49}, {'node': 353, 'train_accuracy': 87.72, 'validation_accuracy': 81.2, 'test_accuracy': 80.49}, {'node': 352, 'train_accuracy': 87.70666666666666, 'validation_accuracy': 81.28, 'test_accuracy': 80.51}, {'node': 351, 'train_accuracy': 87.69333333333333, 'validation_accuracy': 81.36, 'test_accuracy': 80.53}, {'node': 350, 'train_accuracy': 87.68, 'validation_accuracy': 81.44, 'test_accuracy': 80.53}, {'node': 349, 'train_accuracy': 87.64, 'validation_accuracy': 81.47999999999999, 'test_accuracy': 80.5}, {'node': 348, 'train_accuracy': 87.62666666666667, 'validation_accuracy': 81.52000000000001, 'test_accuracy': 80.5}, {'node': 347, 'train_accuracy': 87.61333333333333, 'validation_accuracy': 81.56, 'test_accuracy': 80.5}, {'node': 346, 'train_accuracy': 87.6, 'validation_accuracy': 81.6, 'test_accuracy': 80.5}, {'node': 345, 'train_accuracy': 87.58666666666667, 'validation_accuracy': 81.64, 'test_accuracy': 80.51}, {'node': 344, 'train_accuracy': 87.57333333333334, 'validation_accuracy': 81.67999999999999, 'test_accuracy': 80.52}, {'node': 343, 'train_accuracy': 87.56, 'validation_accuracy': 81.72, 'test_accuracy': 80.52}, {'node': 342, 'train_accuracy': 87.56, 'validation_accuracy': 81.76, 'test_accuracy': 80.56}, {'node': 341, 'train_accuracy': 87.54666666666667, 'validation_accuracy': 81.8, 'test_accuracy': 80.56}, {'node': 340, 'train_accuracy': 87.53333333333333, 'validation_accuracy': 81.84, 'test_accuracy': 80.56}, {'node': 339, 'train_accuracy': 87.52, 'validation_accuracy': 81.88, 'test_accuracy': 80.57}, {'node': 338, 'train_accuracy': 87.50666666666666, 'validation_accuracy': 81.92, 'test_accuracy': 80.60000000000001}, {'node': 337, 'train_accuracy': 87.49333333333334, 'validation_accuracy': 81.96, 'test_accuracy': 80.60000000000001}, {'node': 336, 'train_accuracy': 87.48, 'validation_accuracy': 82.0, 'test_accuracy': 80.63}, {'node': 335, 'train_accuracy': 87.45333333333333, 'validation_accuracy': 82.04, 'test_accuracy': 80.63}, {'node': 334, 'train_accuracy': 87.41333333333333, 'validation_accuracy': 82.08, 'test_accuracy': 80.67}]\n",
            "[{'node': 361, 'train_accuracy': 87.81333333333333, 'validation_accuracy': 81.28, 'test_accuracy': 80.46}, {'node': 360, 'train_accuracy': 87.8, 'validation_accuracy': 81.36, 'test_accuracy': 80.52}, {'node': 359, 'train_accuracy': 87.8, 'validation_accuracy': 81.44, 'test_accuracy': 80.53}, {'node': 358, 'train_accuracy': 87.77333333333334, 'validation_accuracy': 81.52000000000001, 'test_accuracy': 80.56}, {'node': 357, 'train_accuracy': 87.77333333333334, 'validation_accuracy': 81.6, 'test_accuracy': 80.60000000000001}, {'node': 356, 'train_accuracy': 87.77333333333334, 'validation_accuracy': 81.67999999999999, 'test_accuracy': 80.58999999999999}, {'node': 355, 'train_accuracy': 87.76, 'validation_accuracy': 81.76, 'test_accuracy': 80.62}, {'node': 354, 'train_accuracy': 87.74666666666666, 'validation_accuracy': 81.8, 'test_accuracy': 80.62}, {'node': 353, 'train_accuracy': 87.73333333333333, 'validation_accuracy': 81.84, 'test_accuracy': 80.62}, {'node': 352, 'train_accuracy': 87.72, 'validation_accuracy': 81.88, 'test_accuracy': 80.62}, {'node': 351, 'train_accuracy': 87.70666666666666, 'validation_accuracy': 81.92, 'test_accuracy': 80.62}, {'node': 350, 'train_accuracy': 87.68, 'validation_accuracy': 81.96, 'test_accuracy': 80.62}, {'node': 349, 'train_accuracy': 87.65333333333334, 'validation_accuracy': 82.0, 'test_accuracy': 80.63}, {'node': 348, 'train_accuracy': 87.64, 'validation_accuracy': 82.04, 'test_accuracy': 80.64}, {'node': 347, 'train_accuracy': 87.62666666666667, 'validation_accuracy': 82.08, 'test_accuracy': 80.65}, {'node': 346, 'train_accuracy': 87.6, 'validation_accuracy': 82.12, 'test_accuracy': 80.64}, {'node': 345, 'train_accuracy': 87.6, 'validation_accuracy': 82.16, 'test_accuracy': 80.7}, {'node': 344, 'train_accuracy': 87.58666666666667, 'validation_accuracy': 82.19999999999999, 'test_accuracy': 80.7}, {'node': 343, 'train_accuracy': 87.56, 'validation_accuracy': 82.24000000000001, 'test_accuracy': 80.74}, {'node': 342, 'train_accuracy': 87.54666666666667, 'validation_accuracy': 82.28, 'test_accuracy': 80.78}, {'node': 341, 'train_accuracy': 87.54666666666667, 'validation_accuracy': 82.32000000000001, 'test_accuracy': 80.82000000000001}, {'node': 340, 'train_accuracy': 87.53333333333333, 'validation_accuracy': 82.36, 'test_accuracy': 80.82000000000001}, {'node': 339, 'train_accuracy': 87.52, 'validation_accuracy': 82.39999999999999, 'test_accuracy': 80.81}]\n",
            "[{'node': 366, 'train_accuracy': 88.09333333333333, 'validation_accuracy': 80.84, 'test_accuracy': 80.4}, {'node': 365, 'train_accuracy': 88.08, 'validation_accuracy': 80.96, 'test_accuracy': 80.45}, {'node': 364, 'train_accuracy': 88.05333333333333, 'validation_accuracy': 81.04, 'test_accuracy': 80.45}, {'node': 363, 'train_accuracy': 88.05333333333333, 'validation_accuracy': 81.12, 'test_accuracy': 80.46}, {'node': 362, 'train_accuracy': 88.03999999999999, 'validation_accuracy': 81.2, 'test_accuracy': 80.47999999999999}, {'node': 361, 'train_accuracy': 88.01333333333334, 'validation_accuracy': 81.28, 'test_accuracy': 80.5}, {'node': 360, 'train_accuracy': 88.01333333333334, 'validation_accuracy': 81.32000000000001, 'test_accuracy': 80.49}, {'node': 359, 'train_accuracy': 87.98666666666666, 'validation_accuracy': 81.36, 'test_accuracy': 80.47999999999999}, {'node': 358, 'train_accuracy': 87.96000000000001, 'validation_accuracy': 81.39999999999999, 'test_accuracy': 80.47999999999999}, {'node': 357, 'train_accuracy': 87.94666666666666, 'validation_accuracy': 81.44, 'test_accuracy': 80.51}, {'node': 356, 'train_accuracy': 87.93333333333334, 'validation_accuracy': 81.47999999999999, 'test_accuracy': 80.52}, {'node': 355, 'train_accuracy': 87.92, 'validation_accuracy': 81.52000000000001, 'test_accuracy': 80.55}, {'node': 354, 'train_accuracy': 87.90666666666667, 'validation_accuracy': 81.56, 'test_accuracy': 80.55}, {'node': 353, 'train_accuracy': 87.89333333333333, 'validation_accuracy': 81.6, 'test_accuracy': 80.56}, {'node': 352, 'train_accuracy': 87.88, 'validation_accuracy': 81.64, 'test_accuracy': 80.58}, {'node': 351, 'train_accuracy': 87.86666666666667, 'validation_accuracy': 81.67999999999999, 'test_accuracy': 80.58999999999999}, {'node': 350, 'train_accuracy': 87.85333333333334, 'validation_accuracy': 81.72, 'test_accuracy': 80.60000000000001}, {'node': 349, 'train_accuracy': 87.83999999999999, 'validation_accuracy': 81.76, 'test_accuracy': 80.60000000000001}, {'node': 348, 'train_accuracy': 87.83999999999999, 'validation_accuracy': 81.8, 'test_accuracy': 80.62}, {'node': 347, 'train_accuracy': 87.82666666666667, 'validation_accuracy': 81.84, 'test_accuracy': 80.63}, {'node': 346, 'train_accuracy': 87.81333333333333, 'validation_accuracy': 81.88, 'test_accuracy': 80.71000000000001}, {'node': 345, 'train_accuracy': 87.8, 'validation_accuracy': 81.92, 'test_accuracy': 80.71000000000001}, {'node': 344, 'train_accuracy': 87.8, 'validation_accuracy': 81.96, 'test_accuracy': 80.71000000000001}, {'node': 343, 'train_accuracy': 87.78666666666666, 'validation_accuracy': 82.0, 'test_accuracy': 80.72}, {'node': 342, 'train_accuracy': 87.77333333333334, 'validation_accuracy': 82.04, 'test_accuracy': 80.75}, {'node': 341, 'train_accuracy': 87.74666666666666, 'validation_accuracy': 82.08, 'test_accuracy': 80.75}, {'node': 340, 'train_accuracy': 87.73333333333333, 'validation_accuracy': 82.12, 'test_accuracy': 80.76}, {'node': 339, 'train_accuracy': 87.72, 'validation_accuracy': 82.16, 'test_accuracy': 80.77}, {'node': 338, 'train_accuracy': 87.66666666666667, 'validation_accuracy': 82.19999999999999, 'test_accuracy': 80.77}, {'node': 337, 'train_accuracy': 87.65333333333334, 'validation_accuracy': 82.24000000000001, 'test_accuracy': 80.80000000000001}, {'node': 336, 'train_accuracy': 87.64, 'validation_accuracy': 82.28, 'test_accuracy': 80.82000000000001}, {'node': 335, 'train_accuracy': 87.62666666666667, 'validation_accuracy': 82.32000000000001, 'test_accuracy': 80.82000000000001}, {'node': 334, 'train_accuracy': 87.61333333333333, 'validation_accuracy': 82.36, 'test_accuracy': 80.83}]\n"
          ]
        }
      ]
    },
    {
      "cell_type": "code",
      "source": [
        "fold1 = [[], [], [], []]\n",
        "fold2 = [[], [],[],[]]\n",
        "fold3 = [[], [],[],[]]\n",
        "fold4 = [[], [],[],[]]\n",
        "\n",
        "\n",
        "for j in range(len(q2d_fold_accuracies[0])):\n",
        "    fold1[0].append(q2d_fold_accuracies[0][j]['node'])\n",
        "    fold1[1].append(1 - q2d_fold_accuracies[0][j]['train_accuracy']/100)\n",
        "    fold1[2].append(1 - q2d_fold_accuracies[0][j]['validation_accuracy']/100)\n",
        "    fold1[3].append(1 - q2d_fold_accuracies[0][j]['test_accuracy']/100)\n",
        "\n",
        "for j in range(len(q2d_fold_accuracies[1])):\n",
        "    fold2[0].append(q2d_fold_accuracies[1][j]['node'])\n",
        "    fold2[1].append(1 - q2d_fold_accuracies[1][j]['train_accuracy']/100)\n",
        "    fold2[2].append(1 - q2d_fold_accuracies[1][j]['validation_accuracy']/100)\n",
        "    fold2[3].append(1 - q2d_fold_accuracies[1][j]['test_accuracy']/100)\n",
        "\n",
        "for j in range(len(q2d_fold_accuracies[2])):\n",
        "    fold3[0].append(q2d_fold_accuracies[2][j]['node'])\n",
        "    fold3[1].append(1 - q2d_fold_accuracies[2][j]['train_accuracy']/100)\n",
        "    fold3[2].append(1 - q2d_fold_accuracies[2][j]['validation_accuracy']/100)\n",
        "    fold3[3].append(1 - q2d_fold_accuracies[2][j]['test_accuracy']/100)\n",
        "\n",
        "for j in range(len(q2d_fold_accuracies[3])):\n",
        "    fold4[0].append(q2d_fold_accuracies[3][j]['node'])\n",
        "    fold4[1].append(1 - q2d_fold_accuracies[3][j]['train_accuracy']/100)\n",
        "    fold4[2].append(1 - q2d_fold_accuracies[3][j]['validation_accuracy']/100)\n",
        "    fold4[3].append(1 - q2d_fold_accuracies[3][j]['test_accuracy']/100)\n"
      ],
      "metadata": {
        "id": "Ac1jf2RImnaj"
      },
      "execution_count": 28,
      "outputs": []
    },
    {
      "cell_type": "code",
      "source": [
        "fig, (ax1, ax2, ax3, ax4) = plt.subplots(4)\n",
        "\n",
        "fig.set_figheight(20)\n",
        "fig.set_figwidth(12.5)\n",
        "\n",
        "ax1.plot(fold1[0], fold1[1], color='b', label='Train Error')\n",
        "ax1.plot(fold1[0], fold1[2], color='g', label='Validation Error')\n",
        "ax1.plot(fold1[0], fold1[3], color='r', label='Test Error')\n",
        "ax1.invert_xaxis()\n",
        "ax1.legend()\n",
        "ax1.set_title('Fold 1')\n",
        "\n",
        "ax2.plot(fold2[0], fold2[1], color='b', label='Train Error')\n",
        "ax2.plot(fold2[0], fold2[2], color='g', label='Validation Error')\n",
        "ax2.plot(fold2[0], fold2[3], color='r', label='Test Error')\n",
        "ax2.invert_xaxis()\n",
        "ax2.legend()\n",
        "ax2.set_title('Fold 2')\n",
        "\n",
        "ax3.plot(fold3[0], fold3[1], color='b', label='Train Error')\n",
        "ax3.plot(fold3[0], fold3[2], color='g', label='Validation Error')\n",
        "ax3.plot(fold3[0], fold3[3], color='r', label='Test Error')\n",
        "ax3.invert_xaxis()\n",
        "ax3.legend()\n",
        "ax3.set_title('Fold 3')\n",
        "\n",
        "ax4.plot(fold4[0], fold4[1], color='b', label='Train Error')\n",
        "ax4.plot(fold4[0], fold4[2], color='g', label='Validation Error')\n",
        "ax4.plot(fold4[0], fold4[3], color='r', label='Test Error')\n",
        "ax4.invert_xaxis()\n",
        "ax4.legend()\n",
        "ax4.set_title('Fold 4')"
      ],
      "metadata": {
        "colab": {
          "base_uri": "https://localhost:8080/",
          "height": 1000
        },
        "id": "_6nM_a4mnxeh",
        "outputId": "386e3087-3dac-488d-a8b5-ff8b9c0a727d"
      },
      "execution_count": 38,
      "outputs": [
        {
          "output_type": "execute_result",
          "data": {
            "text/plain": [
              "Text(0.5, 1.0, 'Fold 4')"
            ]
          },
          "metadata": {},
          "execution_count": 38
        },
        {
          "output_type": "display_data",
          "data": {
            "text/plain": [
              "<Figure size 900x1440 with 4 Axes>"
            ],
            "image/png": "[encoded data removed]"
          },
          "metadata": {
            "needs_background": "light"
          }
        }
      ]
    }
  ],
  "metadata": {
    "colab": {
      "collapsed_sections": [
        "7seU3Ozu2BTi",
        "kbFylmZfhU0K",
        "vStJHUBeWrDq",
        "OYHcldrYWsN6",
        "YLbbUd_IZPvZ",
        "ykf58d6Mb8JA",
        "OoyLlEB70Ekv",
        "NFlq5eyFl_ic",
        "LTFOazEMmDkB",
        "fkn760I707PR",
        "yMVcnlo2H7o3"
      ],
      "name": "AUT - ML - HW1.ipynb",
      "provenance": []
    },
    "kernelspec": {
      "display_name": "Python 3",
      "name": "python3"
    },
    "language_info": {
      "name": "python"
    }
  },
  "nbformat": 4,
  "nbformat_minor": 0
}
